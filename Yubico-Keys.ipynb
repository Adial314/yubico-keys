{
 "cells": [
  {
   "cell_type": "markdown",
   "metadata": {},
   "source": [
    "# Yubico Keys\n",
    "---\n",
    "\n",
    "[Yubico](http://www.yubico.com) manufactures low-cost security key fobs for multi/two-factor authentication (2FA), One-Time Passwords (OTP) and Univeral Second Factor (U2F). By requiring a physical device with a key that quickly expires in order to authenticate the user, cyber attacks become more difficult to pull off. Using the Yubikey 5 NFC, shown below, python processes and applications can be secured. \n",
    "\n",
    "<img src=\"jupyter-figures/Yubikey-5NFC.jpg\" style=\"max-height: 500px; max-width: 500px;\"/>\n",
    "\n",
    "In this development experiment, a user action will be authenticated using both a user password as well as a Yubikey 5 NFC authenticator. This experiment will hopefully pave the way for future work in 2FA with the Yubico product line.\n",
    "\n",
    "In addition to the Yubico API, authentication methods are provided for encrypting files and checking passwords against a generated hash. These methods allow for additional layers of security to be added to future Python projects and APIs.\n",
    "\n",
    "---\n",
    "\n",
    "## <a name=\"TOC\"></a> Table of Contents\n",
    "1. [Secure Local Storage of Sensitive Files](#secure-local-storage)\n",
    "2. [Secure Password Verification](#secure-password-verification)\n",
    "3. [Validate OTP](#validate-otp)\n",
    "\n"
   ]
  },
  {
   "cell_type": "code",
   "execution_count": 1,
   "metadata": {},
   "outputs": [],
   "source": [
    "# -------------------- CONFIGURE ENVIRONMENT -------------------- #\n",
    "\n",
    "%reset -f\n",
    "\n",
    "from passlib.context import CryptContext\n",
    "from cryptography.fernet import Fernet\n",
    "from getpass import getpass\n",
    "from pathlib import Path\n",
    "import requests\n",
    "import random\n",
    "import string\n",
    "import json\n",
    "import sys\n",
    "import os\n",
    "\n",
    "path_keys = Path(\"keys\")\n",
    "\n"
   ]
  },
  {
   "cell_type": "markdown",
   "metadata": {},
   "source": [
    "## <a name=\"secure-local-storage\"></a> [Secure Local Storage of Sensitive Files](#TOC)\n",
    "\n",
    "One topic which has bothered me for some time now is how to safely and reliably store credentials and keys in a python software ecosystem. With a compiled language, the keys can be stored in a library of string literals and compiled into the executable program where it would have to be reliably decompiled for a consumer to obtain elevated access to the system. This challenge is by no means small but it is not impossible either. One alternative is to store keys in a database but then you have to somehow grant the program access to the database which repeats the issue over again. Whitelisting the IP address of your software is useful but it's too broad a security policy.\n",
    "\n",
    "In order to connect to Yubico products, client identifiers and keys must be passed from this software to the Yubico API. For this reason, I will begin by safely storing this information so that my JupyterLab notebook can safely demonstrate how the Yubico validation process works in Python without exposing my sensitive information to the reader.\n",
    "\n",
    "The process below details how to use [Fernet symmetric encryption](https://cryptography.io/en/latest/fernet/) to encrypt and decrypt a local file using a securely generated keyfile. Ideally, configuration files storing sensitive account information can be safely exchanged over insecure mediums because consumers without the keyfile would be forced to crack the configurations manually. However, this solution does not provide a way to unlock the configuration without exposing the keyfile. In other words, it does not allow the program to run automatically without the administrator providing the keyfile.\n",
    "\n",
    "According to the [Fernet specifications](https://github.com/fernet/spec/blob/master/Spec.md), this encryption method is built on top of the AES 128-bit protocol. Although this encryption protocol is trusted and widely used (and therefore widely scrutinized), the number of bits for the hash is limited considering that modern cracking techniques can bypass a 128-bit encryption. However, the AES protocol in Fernet is run under the cipher blocker chaining (CBC) mode that makes each subsequent cyphertext block dependent on all previously processed plaintext blocks. By interrelating the block cyphers, this AES protocol becomes significantly more difficult to bypass.\n",
    "\n"
   ]
  },
  {
   "cell_type": "code",
   "execution_count": 2,
   "metadata": {},
   "outputs": [],
   "source": [
    "# -------------------- ENCRYPT CONFIGURATION FILE -------------------- #\n",
    "\n",
    "def generate_keyfile(filename):\n",
    "    \"\"\"\n",
    "    Generates a Fernet key and stores the key in\n",
    "    the provided txt file with the provided path.\n",
    "    \"\"\"\n",
    "    \n",
    "    if filename[-4:] == \".key\":\n",
    "        if not os.path.isfile(filename):\n",
    "            os.mknod(filename)\n",
    "        \n",
    "        key = Fernet.generate_key()\n",
    "        with open(filename, \"wb+\") as file:\n",
    "            file.write(key)\n",
    "            file.close()\n",
    "    else:\n",
    "        raise TypeError(\"The provided file must be a key file.\")\n",
    "\n",
    "\n",
    "def load_keyfile(filename):\n",
    "    \"\"\"\n",
    "    Reads the key stored in the provided key file.\n",
    "    \"\"\"\n",
    "    \n",
    "    if filename[-4:] == \".key\":\n",
    "        if not os.path.isfile(filename):\n",
    "            os.mknod(filename)\n",
    "        \n",
    "        with open(filename, \"rb+\") as file:\n",
    "            key = file.read()\n",
    "            file.close()\n",
    "        return key\n",
    "    else:\n",
    "        raise TypeError(\"The provided file must be a key file.\")\n",
    "\n",
    "\n",
    "def encrypt_file(source, destination, key):\n",
    "    \"\"\"\n",
    "    Encrypts the provided source file using the\n",
    "    provided key and saves the encrypted data to\n",
    "    the destination file.\n",
    "    \"\"\"\n",
    "    \n",
    "    if not os.path.isfile(source):\n",
    "        os.mknod(source)\n",
    "        \n",
    "    with open(source, \"rb+\") as file:\n",
    "        source = file.read()\n",
    "        file.close()\n",
    "        \n",
    "    fernet = Fernet(key)\n",
    "    encrypted = fernet.encrypt(source)\n",
    "    \n",
    "    if not os.path.isfile(destination):\n",
    "        os.mknod(destination)\n",
    "    \n",
    "    with open(destination, \"rb+\") as file:\n",
    "        file.write(encrypted)\n",
    "        file.close()\n",
    "\n",
    "\n",
    "def decrypt_file(source, destination, key):\n",
    "    \"\"\"\n",
    "    Decrypts the provided source file using the\n",
    "    provided key and saves the decrypted data to\n",
    "    the destination file.\n",
    "    \"\"\"\n",
    "    \n",
    "    if not os.path.isfile(source):\n",
    "        os.mknod(source)\n",
    "        \n",
    "    with open(source, \"rb+\") as file:\n",
    "        source = file.read()\n",
    "        file.close()\n",
    "        \n",
    "    fernet = Fernet(key)\n",
    "    encrypted = fernet.decrypt(source)\n",
    "    \n",
    "    if not os.path.isfile(destination):\n",
    "        os.mknod(destination)\n",
    "    \n",
    "    with open(destination, \"rb+\") as file:\n",
    "        file.write(encrypted)\n",
    "        file.close()\n",
    "\n"
   ]
  },
  {
   "cell_type": "code",
   "execution_count": 3,
   "metadata": {},
   "outputs": [],
   "source": [
    "# -------------------- TEST ENCRYPTING FILE -------------------- #\n",
    "\n",
    "# Generate and load keyfile\n",
    "generate_keyfile(\"keys/alpha.key\")\n",
    "key = load_keyfile(\"keys/alpha.key\")\n",
    "\n",
    "# Encrypt configuration file\n",
    "encrypt_file(\"config/yubico.json\", \"config/yubico_secured.json\", key)\n",
    "\n",
    "# Decrypt configuration file\n",
    "decrypt_file(\"config/yubico_secured.json\", \"config/yubico_2.json\", key)\n",
    "\n"
   ]
  },
  {
   "cell_type": "markdown",
   "metadata": {},
   "source": [
    "In this test, a json file containing sensitive account information for the Yubico API is encrypted using a generated key named `alpha.key`. The resulting secured JSON file is then decrypted and stored in a third file. Within the file browser, users will see that the first file remains untouched, that the secured file cannot be read as the information is encrypted, and that the third file is exactly the same as the first file. Ergo, the JSON file was safely encrypted and decrypted without loss of information.\n",
    "\n"
   ]
  },
  {
   "cell_type": "markdown",
   "metadata": {},
   "source": [
    "## <a name=\"secure-password-verification\"></a> [Secure Password Verification](#TOC)\n",
    "\n",
    "Critically, a secure application requires the ability to facilitate or inhibit specific users on the basis of their ability to verify their authority to interface with the underlying data. Using `passlib`, passwords can be hashed using SHA-256 and later attempts to log into the application can be verified using the locally stored hash. This method allows for a local database of hashes to be stored without keeping sensitive data exposed for attackers.\n",
    "\n",
    "The goal of this section is to develop the framework for authenticating applications using hashed and salted passwords. These functions will later be deployed in web development contexts.\n",
    "\n"
   ]
  },
  {
   "cell_type": "code",
   "execution_count": 4,
   "metadata": {},
   "outputs": [],
   "source": [
    "# -------------------- ENCRYPT PASSWORD -------------------- #\n",
    "\n",
    "crypt_context = CryptContext(\n",
    "    schemes=[\"pbkdf2_sha256\"],\n",
    "    default=\"pbkdf2_sha256\",\n",
    "    pbkdf2_sha256__default_rounds=30000\n",
    ")\n",
    "\n",
    "\n",
    "def encrypt_password(password):\n",
    "    \"\"\"\n",
    "    Encrypts the plaintext password provided.\n",
    "    \"\"\"\n",
    "    \n",
    "    return crypt_context.hash(password)\n",
    "\n",
    "\n",
    "def verify_password(password, hashed):\n",
    "    \"\"\"\n",
    "    Verifies if the provided password matches\n",
    "    the hash for the given account.\n",
    "    \"\"\"\n",
    "    \n",
    "    return crypt_context.verify(password, hashed)\n",
    "\n"
   ]
  },
  {
   "cell_type": "code",
   "execution_count": 5,
   "metadata": {},
   "outputs": [
    {
     "name": "stdout",
     "output_type": "stream",
     "text": [
      "Plain: Frankenstein\n",
      "Hash: $pbkdf2-sha256$30000$Y0wJodT6n9MaQ6hVCmGMkQ$/hWmSZQpbc6CT6dTLS0ECNBWW8C/etEqbKTej48oyTs\n",
      "\n",
      "Verify 'Apple': False\n",
      "Verify 'Frankenstein': True\n"
     ]
    }
   ],
   "source": [
    "# -------------------- VERIFY PASSWORD USING HASH -------------------- #\n",
    "\n",
    "hashed = encrypt_password(\"Frankenstein\")\n",
    "print(f\"Plain: Frankenstein\")\n",
    "print(f\"Hash: {hashed}\\n\")\n",
    "\n",
    "verified = verify_password(\"Apple\", hashed)\n",
    "print(f\"Verify 'Apple': {verified}\")\n",
    "\n",
    "verified = verify_password(\"Frankenstein\", hashed)\n",
    "print(f\"Verify 'Frankenstein': {verified}\")\n",
    "\n"
   ]
  },
  {
   "cell_type": "markdown",
   "metadata": {},
   "source": [
    "This process allows for the hashed passwords to be stored locally and for authorization attempts to be made directly against the hash rather than against a plaintext password. In other words, the hashes could theoretically be exposed without compromising the password itself. This exposure would not be good practice but it does add a layer of security.\n",
    "\n"
   ]
  },
  {
   "cell_type": "markdown",
   "metadata": {},
   "source": [
    "## <a name=\"validate-otp\"></a> [Validate OTP](#TOC)\n",
    "\n",
    "Yubico provides a validation API for verifying OTPs supplied by registered keys. The [documentation](https://developers.yubico.com/yubikey-val/Validation_Protocol_V2.0.html) for the API describes how to format the API call using the `client_id` and `secret_key` provided by Yubico when the product is [registered](https://upgrade.yubico.com/getapikey/) for the OTP-API. For this example, I have provided the bare-minimum amount of parameters to demonstrate this API's effectiveness at validating OTPs.\n",
    "\n"
   ]
  },
  {
   "cell_type": "code",
   "execution_count": 6,
   "metadata": {},
   "outputs": [],
   "source": [
    "# -------------------- VERIFY YUBICO OTP -------------------- #\n",
    "\n",
    "def rand_string(length):\n",
    "    \"\"\"\n",
    "    Generates a random string of numbers and\n",
    "    letters for crpyographic purposes with the\n",
    "    character length provided.\n",
    "    \"\"\"\n",
    "    \n",
    "    nonce = ''.join(random.choice(\n",
    "        string.ascii_uppercase + string.digits)\n",
    "                    for _ in range(25))\n",
    "    \n",
    "    return nonce\n",
    "\n",
    "\n",
    "def validate_otp(client_id, otp):\n",
    "    \"\"\"\n",
    "    Validates the provided OTP against the\n",
    "    Yubico API for the provided client id.\n",
    "    \"\"\"\n",
    "    \n",
    "    nonce = rand_string(25)\n",
    "\n",
    "    url = f\"https://api.yubico.com/wsapi/2.0/verify?\"\\\n",
    "        f\"id={client_id}&otp={otp}&nonce={nonce}\"\n",
    "\n",
    "    raw_response = requests.get(url).text.splitlines()\n",
    "\n",
    "    keys = list(); values = list()\n",
    "    for field in raw_response:\n",
    "        if len(field):\n",
    "            keys.append(field.split(\"=\", 1)[0])\n",
    "            values.append(field.split(\"=\", 1)[1])\n",
    "\n",
    "    response = dict(zip(keys, values))\n",
    "    \n",
    "    return response\n",
    "\n"
   ]
  },
  {
   "cell_type": "code",
   "execution_count": 7,
   "metadata": {},
   "outputs": [
    {
     "name": "stdin",
     "output_type": "stream",
     "text": [
      "OTP:  ············································\n"
     ]
    },
    {
     "name": "stdout",
     "output_type": "stream",
     "text": [
      "Status: OK\n"
     ]
    }
   ],
   "source": [
    "# -------------------- TEST YUBICO OTP -------------------- #\n",
    "\n",
    "# Load configuration file\n",
    "file = open(\"config/yubico.json\",) \n",
    "config = json.load(file)\n",
    "\n",
    "# Client settings\n",
    "client_id = config[\"client_id\"]\n",
    "# secret_key = config[secret_key]\n",
    "\n",
    "# OTP for validation\n",
    "otp = getpass(\"OTP: \")\n",
    "\n",
    "# Validate OTP\n",
    "response = validate_otp(client_id, otp)\n",
    "status = response[\"status\"]\n",
    "print(f\"Status: {status}\")\n",
    "\n"
   ]
  },
  {
   "cell_type": "markdown",
   "metadata": {},
   "source": [
    "This test demonstrates how one time passwords can be authenticated using only the Yubico API. Accessing the python process then requires a physical key to provide a valid OTP.\n",
    "\n"
   ]
  },
  {
   "cell_type": "markdown",
   "metadata": {},
   "source": [
    "*Written by Austin Dial and Alice Seaborn September 29 - October 03.*"
   ]
  }
 ],
 "metadata": {
  "kernelspec": {
   "display_name": "Python 3",
   "language": "python",
   "name": "python3"
  },
  "language_info": {
   "codemirror_mode": {
    "name": "ipython",
    "version": 3
   },
   "file_extension": ".py",
   "mimetype": "text/x-python",
   "name": "python",
   "nbconvert_exporter": "python",
   "pygments_lexer": "ipython3",
   "version": "3.8.5"
  }
 },
 "nbformat": 4,
 "nbformat_minor": 4
}
